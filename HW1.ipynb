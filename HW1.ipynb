{
  "nbformat": 4,
  "nbformat_minor": 0,
  "metadata": {
    "colab": {
      "provenance": [],
      "authorship_tag": "ABX9TyO7w0je9SbsyFBsmXxdUVnQ",
      "include_colab_link": true
    },
    "kernelspec": {
      "name": "python3",
      "display_name": "Python 3"
    },
    "language_info": {
      "name": "python"
    }
  },
  "cells": [
    {
      "cell_type": "markdown",
      "metadata": {
        "id": "view-in-github",
        "colab_type": "text"
      },
      "source": [
        "<a href=\"https://colab.research.google.com/github/Jiraphatkk/python_dataviz2023/blob/main/HW1.ipynb\" target=\"_parent\"><img src=\"https://colab.research.google.com/assets/colab-badge.svg\" alt=\"Open In Colab\"/></a>"
      ]
    },
    {
      "cell_type": "markdown",
      "source": [
        "# HW1\n",
        "\n",
        "คำนวณว่า ช่วงเวลาต่อไปนี้ ห่างกันกี่ ชั่วโมง กี่นาที กี่วินาที (print ออกมาให้สวยงาม)\n",
        "\n",
        "\n",
        "*   12:30:15 - 13:41:07\n",
        "*   09:11:50 - 21:30:15\n",
        "*   19:25:30 - 03:10:15"
      ],
      "metadata": {
        "id": "KLtpj4v7ygwp"
      }
    },
    {
      "cell_type": "code",
      "execution_count": null,
      "metadata": {
        "colab": {
          "base_uri": "https://localhost:8080/"
        },
        "id": "wxPAelzSyMYL",
        "outputId": "f6b72b20-ba2c-4a4d-87b8-b1ba11696e4b"
      },
      "outputs": [
        {
          "output_type": "stream",
          "name": "stdout",
          "text": [
            "เวลา 12:30:15 ห่างกับ 13:41:07 เป็นเวลา 1ชั่วโมง 10นาที 52วินาที \n"
          ]
        }
      ],
      "source": [
        "#12:30:15 - 13:41:07\n",
        "q1 = '12:30:15'\n",
        "q2 = '13:41:07'\n",
        "Q1 = q1.split(\":\")\n",
        "Q2 = q2.split(\":\")\n",
        "\n",
        "hours1 = int(Q1[0])*3600\n",
        "minutes1 = int(Q1[1])*60\n",
        "seconds1 = int(Q1[2])\n",
        "\n",
        "hours2 = int(Q2[0])*3600\n",
        "minutes2 = int(Q2[1])*60\n",
        "seconds2 = int(Q2[2])\n",
        "\n",
        "t2 =  hours2 + minutes2 + seconds2\n",
        "t1 =  hours1 + minutes1 + seconds1\n",
        "\n",
        "diff = t2-t1\n",
        "if(diff<0): #ถ้า diff ติดลบจะต้องนำค่าที่ติดลบมาเพิ่มขึ้น 24 ชั่วโมง\n",
        "   diff1 = diff+86400\n",
        "else:\n",
        "    diff1 = diff\n",
        "hr = int(diff1/3600)\n",
        "s = diff1%3600\n",
        "min = int(s/60)\n",
        "sec = s%60\n",
        "\n",
        "print(f'เวลา {q1} ห่างกับ {q2} เป็นเวลา {hr}ชั่วโมง {min}นาที {sec}วินาที ')"
      ]
    },
    {
      "cell_type": "code",
      "source": [
        "#09:11:50 - 21:30:15\n",
        "q1 = '09:11:50'\n",
        "q2 = '21:30:15'\n",
        "Q1 = q1.split(\":\")\n",
        "Q2 = q2.split(\":\")\n",
        "\n",
        "hours1 = int(Q1[0])*3600\n",
        "minutes1 = int(Q1[1])*60\n",
        "seconds1 = int(Q1[2])\n",
        "\n",
        "hours2 = int(Q2[0])*3600\n",
        "minutes2 = int(Q2[1])*60\n",
        "seconds2 = int(Q2[2])\n",
        "\n",
        "t2 =  hours2 + minutes2 + seconds2\n",
        "t1 =  hours1 + minutes1 + seconds1\n",
        "\n",
        "diff = t2-t1\n",
        "if(diff<0): #ถ้า diff ติดลบจะต้องนำค่าที่ติดลบมาเพิ่มขึ้น 24 ชั่วโมง\n",
        "   diff1 = diff+86400\n",
        "else:\n",
        "    diff1 = diff\n",
        "hr = int(diff1/3600)\n",
        "s = diff1%3600\n",
        "min = int(s/60)\n",
        "sec = s%60\n",
        "\n",
        "print(f'เวลา {q1} ห่างกับ {q2} เป็นเวลา {hr}ชั่วโมง {min}นาที {sec}วินาที')"
      ],
      "metadata": {
        "colab": {
          "base_uri": "https://localhost:8080/"
        },
        "id": "qIFkfXbvzw26",
        "outputId": "e6426339-5eb8-4e1d-f7a5-4915378704dd"
      },
      "execution_count": null,
      "outputs": [
        {
          "output_type": "stream",
          "name": "stdout",
          "text": [
            "เวลา 09:11:50 ห่างกับ 21:30:15 เป็นเวลา 12ชั่วโมง 18นาที 25วินาที\n"
          ]
        }
      ]
    },
    {
      "cell_type": "code",
      "source": [
        "#19:25:30 - 03:10:15\n",
        "q1 = '19:25:30'\n",
        "q2 = '03:10:15'\n",
        "Q1 = q1.split(\":\")\n",
        "Q2 = q2.split(\":\")\n",
        "\n",
        "hours1 = int(Q1[0])*3600\n",
        "minutes1 = int(Q1[1])*60\n",
        "seconds1 = int(Q1[2])\n",
        "\n",
        "hours2 = int(Q2[0])*3600\n",
        "minutes2 = int(Q2[1])*60\n",
        "seconds2 = int(Q2[2])\n",
        "\n",
        "t2 =  hours2 + minutes2 + seconds2\n",
        "t1 =  hours1 + minutes1 + seconds1\n",
        "\n",
        "diff = t2-t1\n",
        "if(diff<0): #ถ้า diff ติดลบจะต้องนำค่าที่ติดลบมาเพิ่มขึ้น 24 ชั่วโมง\n",
        "   diff1 = diff+86400\n",
        "else:\n",
        "    diff1 = diff\n",
        "hr = int(diff1/3600)\n",
        "s = diff1%3600\n",
        "min = int(s/60)\n",
        "sec = s%60\n",
        "\n",
        "print(f'เวลา {q1} ห่างกับ {q2} เป็นเวลา {hr}ชั่วโมง {min}นาที {sec}วินาที ')"
      ],
      "metadata": {
        "colab": {
          "base_uri": "https://localhost:8080/"
        },
        "id": "qmr1v9AC0nrb",
        "outputId": "d69607aa-703f-4554-caeb-727aaffdfbd0"
      },
      "execution_count": null,
      "outputs": [
        {
          "output_type": "stream",
          "name": "stdout",
          "text": [
            "เวลา 19:25:30 ห่างกับ 03:10:15 เป็นเวลา 7ชั่วโมง 44นาที 45วินาที \n"
          ]
        }
      ]
    }
  ]
}